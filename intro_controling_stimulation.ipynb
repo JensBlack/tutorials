{
 "cells": [
  {
   "cell_type": "code",
   "execution_count": 4,
   "metadata": {},
   "outputs": [
    {
     "name": "stdout",
     "output_type": "stream",
     "text": [
      "Collecting nidaqmxNote: you may need to restart the kernel to use updated packages.\n",
      "  Downloading nidaqmx-0.5.7-py2.py3-none-any.whl (270 kB)\n",
      "Requirement already satisfied: six in d:\\anaconda\\envs\\dls_utils\\lib\\site-packages (from nidaqmx) (1.16.0)\n",
      "Requirement already satisfied: numpy in d:\\anaconda\\envs\\dls_utils\\lib\\site-packages (from nidaqmx) (1.19.5)\n",
      "Installing collected packages: nidaqmx\n",
      "Successfully installed nidaqmx-0.5.7\n",
      "\n"
     ]
    }
   ],
   "source": [
    "%pip install nidaqmx\n"
   ]
  },
  {
   "cell_type": "code",
   "execution_count": 5,
   "metadata": {},
   "outputs": [],
   "source": [
    "import time\n",
    "import nidaqmx"
   ]
  },
  {
   "cell_type": "code",
   "execution_count": 3,
   "metadata": {},
   "outputs": [
    {
     "ename": "SyntaxError",
     "evalue": "unexpected EOF while parsing (<ipython-input-3-bfeb5f746163>, line 48)",
     "output_type": "error",
     "traceback": [
      "\u001b[1;36m  File \u001b[1;32m\"<ipython-input-3-bfeb5f746163>\"\u001b[1;36m, line \u001b[1;32m48\u001b[0m\n\u001b[1;33m    \u001b[0m\n\u001b[1;37m    ^\u001b[0m\n\u001b[1;31mSyntaxError\u001b[0m\u001b[1;31m:\u001b[0m unexpected EOF while parsing\n"
     ]
    }
   ],
   "source": [
    "class Laser:\n",
    "    \n",
    "    def __init__(self, color: str = \"blue\", name: str = \"Testlaser3000\", intensity: float = 100.0) -> None:\n",
    "        self.name = name\n",
    "        self.running = False\n",
    "        self.color = color\n",
    "        self.runtime = 0\n",
    "        self.intensity = intensity\n",
    "        \n",
    "    def turn_on(self):\n",
    "        if self.running:\n",
    "            print(f\"{self.color.capitalize()} {self.name} is already running...\")\n",
    "        else:\n",
    "            print(f\"Starting {self.color.lower()} {self.name}.\")\n",
    "            self.runtime = time.time()\n",
    "            self.running = True\n",
    "            \n",
    "    def turn_off(self):\n",
    "        if self.running:\n",
    "            print(f\"Stopping {self.color.lower()} {self.name}.\")\n",
    "            self.running = False   \n",
    "            current_runtime =  time.time() - self.runtime\n",
    "            print(f\"{self.name} ran for {current_runtime:0.2f} sec.\")\n",
    "            self.runtime = 0\n",
    "            \n",
    "        else:\n",
    "            print(f\"{self.color.capitalize()} {self.name} is not running...\")\n",
    "            \n",
    "    def get_runtime(self):\n",
    "        return self.runtime\n",
    "    \n",
    "    def get_status(self):\n",
    "        return self.running\n",
    "    \n",
    "    def get_name(self):\n",
    "        return self.name\n",
    "    \n",
    "    def set_name(self, new_name):\n",
    "        self.name = new_name\n",
    "    \n",
    "    def get_color(self):\n",
    "        return self.color\n",
    "    \n",
    "    def set_color(self, new_color):\n",
    "        self.color = new_color\n",
    "        \n",
    "    def get_intensity(self):\n",
    "        "
   ]
  },
  {
   "cell_type": "code",
   "execution_count": null,
   "metadata": {},
   "outputs": [
    {
     "name": "stdout",
     "output_type": "stream",
     "text": [
      "Starting red Testlaser3000.\n",
      "Stopping red Testlaser3000.\n",
      "Testlaser3000 ran for 3.00 sec.\n",
      "Starting green NotATestLaser.\n",
      "Starting red Testlaser3000.\n",
      "Stopping red Testlaser3000.\n",
      "Testlaser3000 ran for 3.01 sec.\n",
      "Green NotATestLaser is already running...\n",
      "Starting red Testlaser3000.\n",
      "Stopping red Testlaser3000.\n",
      "Testlaser3000 ran for 3.00 sec.\n"
     ]
    },
    {
     "ename": "KeyboardInterrupt",
     "evalue": "",
     "output_type": "error",
     "traceback": [
      "\u001b[1;31m---------------------------------------------------------------------------\u001b[0m",
      "\u001b[1;31mKeyboardInterrupt\u001b[0m                         Traceback (most recent call last)",
      "\u001b[1;32m<ipython-input-7-fa22f4af29cd>\u001b[0m in \u001b[0;36m<module>\u001b[1;34m\u001b[0m\n\u001b[0;32m     16\u001b[0m     \u001b[0mtime\u001b[0m\u001b[1;33m.\u001b[0m\u001b[0msleep\u001b[0m\u001b[1;33m(\u001b[0m\u001b[0mstim1_length\u001b[0m\u001b[1;33m)\u001b[0m\u001b[1;33m\u001b[0m\u001b[1;33m\u001b[0m\u001b[0m\n\u001b[0;32m     17\u001b[0m     \u001b[0mstim1_laser\u001b[0m\u001b[1;33m.\u001b[0m\u001b[0mturn_off\u001b[0m\u001b[1;33m(\u001b[0m\u001b[1;33m)\u001b[0m\u001b[1;33m\u001b[0m\u001b[1;33m\u001b[0m\u001b[0m\n\u001b[1;32m---> 18\u001b[1;33m     \u001b[0mtime\u001b[0m\u001b[1;33m.\u001b[0m\u001b[0msleep\u001b[0m\u001b[1;33m(\u001b[0m\u001b[0minterstim_time\u001b[0m\u001b[1;33m)\u001b[0m\u001b[1;33m\u001b[0m\u001b[1;33m\u001b[0m\u001b[0m\n\u001b[0m\u001b[0;32m     19\u001b[0m     \u001b[0mstim2_laser\u001b[0m\u001b[1;33m.\u001b[0m\u001b[0mturn_on\u001b[0m\u001b[1;33m(\u001b[0m\u001b[1;33m)\u001b[0m\u001b[1;33m\u001b[0m\u001b[1;33m\u001b[0m\u001b[0m\n\u001b[0;32m     20\u001b[0m     \u001b[0mtime\u001b[0m\u001b[1;33m.\u001b[0m\u001b[0msleep\u001b[0m\u001b[1;33m(\u001b[0m\u001b[0mstim2_length\u001b[0m\u001b[1;33m)\u001b[0m\u001b[1;33m\u001b[0m\u001b[1;33m\u001b[0m\u001b[0m\n",
      "\u001b[1;31mKeyboardInterrupt\u001b[0m: "
     ]
    }
   ],
   "source": [
    "\"\"\" PARAMETERS\"\"\"\n",
    "\n",
    "trial_number = 3 # how many trials are done\n",
    "stim1_length = 3 # stimulus length in sec for laser 1\n",
    "stim2_length = 5 # stimulus length in sec for laser 2\n",
    "interstim_time = 2 # time between stimuli in sec\n",
    "inter_trial_time = 4 # time between trials in sec\n",
    "\n",
    "#Trials repeat a number of times and a pause in between\n",
    "# each trial is a sequence of stimuli with specific length and a pause in between\n",
    "\n",
    "\"\"\"Lasers\"\"\"\n",
    "\n",
    "stim1_laser = Laser(color = \"red\")\n",
    "stim2_laser = Laser(color = \"green\", name = \"NotATestLaser\")\n",
    "\n",
    "for trial in range(trial_number):\n",
    "    \n",
    "    stim1_laser.turn_on()\n",
    "    time.sleep(stim1_length)\n",
    "    stim1_laser.turn_off()\n",
    "    print(f\"Starting interstimulus time ({interstim_time} sec)\")\n",
    "    time.sleep(interstim_time)\n",
    "    stim2_laser.turn_on()\n",
    "    time.sleep(stim2_length)\n",
    "    print(f\"Starting trial time ({inter_trial_time} sec)\")\n",
    "    time.sleep(inter_trial_time)\n",
    "    \n",
    "    \n",
    "    "
   ]
  },
  {
   "cell_type": "code",
   "execution_count": 20,
   "metadata": {},
   "outputs": [
    {
     "name": "stdout",
     "output_type": "stream",
     "text": [
      "Starting OdorStim.\n",
      "Starting interstimulus time (1 sec)\n",
      "Starting BlueLaser.\n",
      "Stopping OdorStim.\n",
      "OdorStim ran for 6.03 sec.\n",
      "Stopping BlueLaser.\n",
      "BlueLaser ran for 5.03 sec.\n",
      "Starting trial time (4 sec)\n",
      "Starting OdorStim.\n",
      "Starting interstimulus time (1 sec)\n",
      "Starting BlueLaser.\n",
      "Stopping OdorStim.\n",
      "OdorStim ran for 6.05 sec.\n",
      "Stopping BlueLaser.\n",
      "BlueLaser ran for 5.03 sec.\n",
      "Starting trial time (4 sec)\n",
      "Starting OdorStim.\n",
      "Starting interstimulus time (1 sec)\n",
      "Starting BlueLaser.\n",
      "Stopping OdorStim.\n",
      "OdorStim ran for 6.03 sec.\n",
      "Stopping BlueLaser.\n",
      "BlueLaser ran for 5.03 sec.\n",
      "Starting trial time (4 sec)\n"
     ]
    }
   ],
   "source": [
    "\"\"\" PARAMETERS\"\"\"\n",
    "\n",
    "trial_number = 3 # how many trials are done\n",
    "stim1_length = 3 # stimulus length in sec for laser 1\n",
    "stim2_length = 5 # stimulus length in sec for laser 2\n",
    "interstim_time = 1 # time between stimuli in sec\n",
    "inter_trial_time = 4 # time between trials in sec\n",
    "\n",
    "#Trials repeat a number of times and a pause in between\n",
    "# each trial is a sequence of stimuli with specific length and a pause in between\n",
    "\n",
    "\"\"\"Lasers\"\"\"\n",
    "\n",
    "input_port_laser1 = \"Dev1/PFI5\"\n",
    "input_port_airpuff = \"Dev1/PFI6\"\n",
    "\n",
    "\n",
    "\n",
    "def control_device(input_port, state: bool):\n",
    "\n",
    "    with nidaqmx.Task() as task:\n",
    "        task.do_channels.add_do_chan(input_port)\n",
    "        task.write(state, auto_start=True)\n",
    "        start_time = time.time()\n",
    "        \n",
    "    return state, start_time\n",
    "\n",
    "        \n",
    "class Device:\n",
    "    \n",
    "    def __init__(self, input_port: str, name: str = \"Testlaser3000\") -> None:\n",
    "        self.name = name\n",
    "        self.running = False\n",
    "        self.runtime = 0\n",
    "        self.input_port = input_port\n",
    "\n",
    "        \n",
    "    def turn_on(self):\n",
    "        if self.running:\n",
    "            print(f\"{self.color.capitalize()} {self.name} is already running...\")\n",
    "        else:\n",
    "            print(f\"Starting {self.name}.\")\n",
    "            \n",
    "            self.running, self.runtime = control_device(self.input_port, True)\n",
    "            \n",
    "    def turn_off(self):\n",
    "        if self.running:\n",
    "            print(f\"Stopping {self.name}.\")\n",
    "            self.running, end_time = control_device(self.input_port, False) \n",
    "            current_runtime =  end_time - self.runtime\n",
    "            print(f\"{self.name} ran for {current_runtime:0.2f} sec.\")\n",
    "            self.runtime = 0\n",
    "            \n",
    "        else:\n",
    "            print(f\"{self.name.capitalize()} is not running...\")\n",
    "            \n",
    "    def get_runtime(self):\n",
    "        return self.runtime\n",
    "    \n",
    "    def get_status(self):\n",
    "        return self.running\n",
    "    \n",
    "    def get_name(self):\n",
    "        return self.name\n",
    "    \n",
    "    def set_name(self, new_name):\n",
    "        self.name = new_name\n",
    "    \n",
    "\n",
    "stim1_laser = Device(input_port_laser1, \"BlueLaser\")\n",
    "stim2_odour = Device(name = \"OdorStim\", input_port= input_port_airpuff)\n",
    "\n",
    "for trial in range(trial_number):\n",
    "    \n",
    "    stim2_odour.turn_on()\n",
    "\n",
    "    #control_device(\"Test\", True)\n",
    "        \n",
    "    #control_device(\"Test\", True)\n",
    "    print(f\"Starting interstimulus time ({interstim_time} sec)\")\n",
    "    \n",
    "    time.sleep(1)\n",
    "    stim1_laser.turn_on()\n",
    "    #control_device(\"Test\", True)\n",
    "    time.sleep(5)\n",
    "    stim2_odour.turn_off()\n",
    "    stim1_laser.turn_off()\n",
    "    print(f\"Starting trial time ({inter_trial_time} sec)\")\n",
    "    time.sleep(inter_trial_time)"
   ]
  }
 ],
 "metadata": {
  "kernelspec": {
   "display_name": "Python 3.6.13",
   "language": "python",
   "name": "python3"
  },
  "language_info": {
   "codemirror_mode": {
    "name": "ipython",
    "version": 3
   },
   "file_extension": ".py",
   "mimetype": "text/x-python",
   "name": "python",
   "nbconvert_exporter": "python",
   "pygments_lexer": "ipython3",
   "version": "3.6.13"
  },
  "orig_nbformat": 4,
  "vscode": {
   "interpreter": {
    "hash": "cd256357515f54c38de295c43be3c65660b32976012752c1a88aa60de27d1993"
   }
  }
 },
 "nbformat": 4,
 "nbformat_minor": 2
}
