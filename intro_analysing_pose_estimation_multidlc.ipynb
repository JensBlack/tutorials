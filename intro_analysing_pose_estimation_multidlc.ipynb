{
  "cells": [
    {
      "cell_type": "markdown",
      "metadata": {
        "id": "view-in-github",
        "colab_type": "text"
      },
      "source": [
        "<a href=\"https://colab.research.google.com/github/JensBlack/tutorials/blob/main/intro_analysing_pose_estimation_multidlc.ipynb\" target=\"_parent\"><img src=\"https://colab.research.google.com/assets/colab-badge.svg\" alt=\"Open In Colab\"/></a>"
      ]
    },
    {
      "cell_type": "code",
      "execution_count": 130,
      "id": "9e326fb6",
      "metadata": {
        "id": "9e326fb6"
      },
      "outputs": [],
      "source": [
        "#import h5py\n",
        "import numpy as np\n",
        "import pandas as pd\n",
        "import matplotlib.pyplot as plt\n"
      ]
    },
    {
      "cell_type": "code",
      "execution_count": 131,
      "id": "e12c03b4",
      "metadata": {
        "id": "e12c03b4"
      },
      "outputs": [],
      "source": [
        "def load_file(filename, report = True):\n",
        "    f = pd.read_csv(filename, header = [0,1,2,3], index_col = 0)\n",
        "\n",
        "    clm_names = np.array(f.columns)\n",
        "    scorer = np.unique(f.columns.get_level_values(0))\n",
        "    animals = np.unique(f.columns.get_level_values(1))\n",
        "    bodyparts = np.unique(f.columns.get_level_values(2))\n",
        "    coords = np.unique(f.columns.get_level_values(3))\n",
        "\n",
        "    if report:\n",
        "      print(\"Filename: \", filename)\n",
        "      print('DATA INFO: \\n')\n",
        "      print(\"Scorer: \", scorer)\n",
        "      print(f\"Animals: \", ', '.join(animals))\n",
        "      print(f\"Bodyparts/keypoints: \", \", \".join(bodyparts))\n",
        "      print(f\"Coordinates/Likelihood: \", \", \".join(coords))\n",
        "      print(\"Length: \", f.shape[0], \" frames\")\n",
        "      print()\n",
        "    return f, scorer, animals, bodyparts"
      ]
    },
    {
      "cell_type": "code",
      "execution_count": 132,
      "id": "2a6297f9",
      "metadata": {
        "id": "2a6297f9",
        "colab": {
          "base_uri": "https://localhost:8080/"
        },
        "outputId": "fb0cdef5-0728-4db7-a4a2-967fcf958a78"
      },
      "outputs": [
        {
          "output_type": "stream",
          "name": "stdout",
          "text": [
            "Filename:  /220422_126_127_TrimDLC_dlcrnetms5_openfieldMay31shuffle1_200000_el.csv\n",
            "DATA INFO: \n",
            "\n",
            "Scorer:  ['DLC_dlcrnetms5_openfieldMay31shuffle1_200000']\n",
            "Animals:  mouse1, mouse2\n",
            "Bodyparts/keypoints:  neck, nose, tailbase\n",
            "Coordinates/Likelihood:  likelihood, x, y\n",
            "Length:  3697  frames\n",
            "\n"
          ]
        }
      ],
      "source": [
        "path = \"/220422_126_127_TrimDLC_dlcrnetms5_openfieldMay31shuffle1_200000_el.csv\"\n",
        "\n",
        "df, scorer, animals, bodyparts = load_file(path)"
      ]
    },
    {
      "cell_type": "markdown",
      "source": [
        "Let's look at the data (in pandas called DataFrame or \"df\"):\n",
        "\n",
        "You will see that it is a table-based format that has rows with measurements - x, y coordinates and a likelihood value for each frame/index - and columns with different types of body parts (e.g. nose, neck, tailbase) and animals (e.g. mouse1)."
      ],
      "metadata": {
        "id": "KWLY__Tbc-zy"
      },
      "id": "KWLY__Tbc-zy"
    },
    {
      "cell_type": "code",
      "execution_count": 133,
      "id": "6bae5982",
      "metadata": {
        "id": "6bae5982",
        "outputId": "416b926a-fe07-4882-ff16-2f143aec08be",
        "colab": {
          "base_uri": "https://localhost:8080/",
          "height": 518
        }
      },
      "outputs": [
        {
          "output_type": "execute_result",
          "data": {
            "text/plain": [
              "scorer      DLC_dlcrnetms5_openfieldMay31shuffle1_200000                      \\\n",
              "individuals                                       mouse1                       \n",
              "bodyparts                                           nose                       \n",
              "coords                                                 x        y likelihood   \n",
              "0                                                341.482  136.958        1.0   \n",
              "1                                                342.168  138.246        1.0   \n",
              "2                                                342.600  138.598        1.0   \n",
              "3                                                343.187  138.926        1.0   \n",
              "4                                                343.186  138.925        1.0   \n",
              "...                                                  ...      ...        ...   \n",
              "3692                                             475.710  412.380        1.0   \n",
              "3693                                             476.570  419.137        1.0   \n",
              "3694                                             476.565  419.131        1.0   \n",
              "3695                                             479.047  425.612        1.0   \n",
              "3696                                             478.213  425.498        1.0   \n",
              "\n",
              "scorer                                                                 \\\n",
              "individuals                                                             \n",
              "bodyparts       neck                     tailbase                       \n",
              "coords             x        y likelihood        x        y likelihood   \n",
              "0            348.100  138.419        1.0  380.054  133.016        1.0   \n",
              "1            348.289  138.739        1.0  380.409  133.014        1.0   \n",
              "2            347.948  139.258        1.0  380.283  132.984        1.0   \n",
              "3            348.102  139.862        1.0  380.703  132.988        1.0   \n",
              "4            348.100  139.860        1.0  380.703  132.986        1.0   \n",
              "...              ...      ...        ...      ...      ...        ...   \n",
              "3692         475.240  400.270        1.0  480.316  367.453        1.0   \n",
              "3693         473.184  405.110        1.0  479.219  368.419        1.0   \n",
              "3694         473.199  405.098        1.0  479.199  368.390        1.0   \n",
              "3695         472.544  413.268        1.0  476.301  371.215        1.0   \n",
              "3696         473.793  413.381        1.0  474.366  379.515        1.0   \n",
              "\n",
              "scorer                                                                 \\\n",
              "individuals   mouse2                                                    \n",
              "bodyparts       nose                         neck                       \n",
              "coords             x        y likelihood        x        y likelihood   \n",
              "0            440.595  156.491        1.0  432.417  158.417        1.0   \n",
              "1            440.586  156.443        1.0  432.327  158.421        1.0   \n",
              "2            440.432  156.327        1.0  432.119  158.179        1.0   \n",
              "3            440.422  156.313        1.0  432.222  158.113        1.0   \n",
              "4            440.421  156.309        1.0  432.223  158.110        1.0   \n",
              "...              ...      ...        ...      ...      ...        ...   \n",
              "3692         343.988  138.807        1.0  329.352  131.104        1.0   \n",
              "3693         347.372  135.368        1.0  334.354  133.327        1.0   \n",
              "3694         347.368  135.365        1.0  334.359  133.322        1.0   \n",
              "3695         347.163  135.901        1.0  333.897  136.298        1.0   \n",
              "3696         349.334  138.854        1.0  335.446  137.318        1.0   \n",
              "\n",
              "scorer                                    \n",
              "individuals                               \n",
              "bodyparts   tailbase                      \n",
              "coords             x        y likelihood  \n",
              "0            409.107  173.847        1.0  \n",
              "1            409.183  173.764        1.0  \n",
              "2            409.145  173.670        1.0  \n",
              "3            408.966  173.595        1.0  \n",
              "4            408.965  173.592        1.0  \n",
              "...              ...      ...        ...  \n",
              "3692         297.275  132.079        1.0  \n",
              "3693         299.107  131.694        1.0  \n",
              "3694         299.107  131.689        1.0  \n",
              "3695         300.019  131.634        1.0  \n",
              "3696         305.679  130.634        1.0  \n",
              "\n",
              "[3697 rows x 18 columns]"
            ],
            "text/html": [
              "\n",
              "  <div id=\"df-07488b65-102b-4e54-93b5-7e80025eb213\">\n",
              "    <div class=\"colab-df-container\">\n",
              "      <div>\n",
              "<style scoped>\n",
              "    .dataframe tbody tr th:only-of-type {\n",
              "        vertical-align: middle;\n",
              "    }\n",
              "\n",
              "    .dataframe tbody tr th {\n",
              "        vertical-align: top;\n",
              "    }\n",
              "\n",
              "    .dataframe thead tr th {\n",
              "        text-align: left;\n",
              "    }\n",
              "</style>\n",
              "<table border=\"1\" class=\"dataframe\">\n",
              "  <thead>\n",
              "    <tr>\n",
              "      <th>scorer</th>\n",
              "      <th colspan=\"18\" halign=\"left\">DLC_dlcrnetms5_openfieldMay31shuffle1_200000</th>\n",
              "    </tr>\n",
              "    <tr>\n",
              "      <th>individuals</th>\n",
              "      <th colspan=\"9\" halign=\"left\">mouse1</th>\n",
              "      <th colspan=\"9\" halign=\"left\">mouse2</th>\n",
              "    </tr>\n",
              "    <tr>\n",
              "      <th>bodyparts</th>\n",
              "      <th colspan=\"3\" halign=\"left\">nose</th>\n",
              "      <th colspan=\"3\" halign=\"left\">neck</th>\n",
              "      <th colspan=\"3\" halign=\"left\">tailbase</th>\n",
              "      <th colspan=\"3\" halign=\"left\">nose</th>\n",
              "      <th colspan=\"3\" halign=\"left\">neck</th>\n",
              "      <th colspan=\"3\" halign=\"left\">tailbase</th>\n",
              "    </tr>\n",
              "    <tr>\n",
              "      <th>coords</th>\n",
              "      <th>x</th>\n",
              "      <th>y</th>\n",
              "      <th>likelihood</th>\n",
              "      <th>x</th>\n",
              "      <th>y</th>\n",
              "      <th>likelihood</th>\n",
              "      <th>x</th>\n",
              "      <th>y</th>\n",
              "      <th>likelihood</th>\n",
              "      <th>x</th>\n",
              "      <th>y</th>\n",
              "      <th>likelihood</th>\n",
              "      <th>x</th>\n",
              "      <th>y</th>\n",
              "      <th>likelihood</th>\n",
              "      <th>x</th>\n",
              "      <th>y</th>\n",
              "      <th>likelihood</th>\n",
              "    </tr>\n",
              "  </thead>\n",
              "  <tbody>\n",
              "    <tr>\n",
              "      <th>0</th>\n",
              "      <td>341.482</td>\n",
              "      <td>136.958</td>\n",
              "      <td>1.0</td>\n",
              "      <td>348.100</td>\n",
              "      <td>138.419</td>\n",
              "      <td>1.0</td>\n",
              "      <td>380.054</td>\n",
              "      <td>133.016</td>\n",
              "      <td>1.0</td>\n",
              "      <td>440.595</td>\n",
              "      <td>156.491</td>\n",
              "      <td>1.0</td>\n",
              "      <td>432.417</td>\n",
              "      <td>158.417</td>\n",
              "      <td>1.0</td>\n",
              "      <td>409.107</td>\n",
              "      <td>173.847</td>\n",
              "      <td>1.0</td>\n",
              "    </tr>\n",
              "    <tr>\n",
              "      <th>1</th>\n",
              "      <td>342.168</td>\n",
              "      <td>138.246</td>\n",
              "      <td>1.0</td>\n",
              "      <td>348.289</td>\n",
              "      <td>138.739</td>\n",
              "      <td>1.0</td>\n",
              "      <td>380.409</td>\n",
              "      <td>133.014</td>\n",
              "      <td>1.0</td>\n",
              "      <td>440.586</td>\n",
              "      <td>156.443</td>\n",
              "      <td>1.0</td>\n",
              "      <td>432.327</td>\n",
              "      <td>158.421</td>\n",
              "      <td>1.0</td>\n",
              "      <td>409.183</td>\n",
              "      <td>173.764</td>\n",
              "      <td>1.0</td>\n",
              "    </tr>\n",
              "    <tr>\n",
              "      <th>2</th>\n",
              "      <td>342.600</td>\n",
              "      <td>138.598</td>\n",
              "      <td>1.0</td>\n",
              "      <td>347.948</td>\n",
              "      <td>139.258</td>\n",
              "      <td>1.0</td>\n",
              "      <td>380.283</td>\n",
              "      <td>132.984</td>\n",
              "      <td>1.0</td>\n",
              "      <td>440.432</td>\n",
              "      <td>156.327</td>\n",
              "      <td>1.0</td>\n",
              "      <td>432.119</td>\n",
              "      <td>158.179</td>\n",
              "      <td>1.0</td>\n",
              "      <td>409.145</td>\n",
              "      <td>173.670</td>\n",
              "      <td>1.0</td>\n",
              "    </tr>\n",
              "    <tr>\n",
              "      <th>3</th>\n",
              "      <td>343.187</td>\n",
              "      <td>138.926</td>\n",
              "      <td>1.0</td>\n",
              "      <td>348.102</td>\n",
              "      <td>139.862</td>\n",
              "      <td>1.0</td>\n",
              "      <td>380.703</td>\n",
              "      <td>132.988</td>\n",
              "      <td>1.0</td>\n",
              "      <td>440.422</td>\n",
              "      <td>156.313</td>\n",
              "      <td>1.0</td>\n",
              "      <td>432.222</td>\n",
              "      <td>158.113</td>\n",
              "      <td>1.0</td>\n",
              "      <td>408.966</td>\n",
              "      <td>173.595</td>\n",
              "      <td>1.0</td>\n",
              "    </tr>\n",
              "    <tr>\n",
              "      <th>4</th>\n",
              "      <td>343.186</td>\n",
              "      <td>138.925</td>\n",
              "      <td>1.0</td>\n",
              "      <td>348.100</td>\n",
              "      <td>139.860</td>\n",
              "      <td>1.0</td>\n",
              "      <td>380.703</td>\n",
              "      <td>132.986</td>\n",
              "      <td>1.0</td>\n",
              "      <td>440.421</td>\n",
              "      <td>156.309</td>\n",
              "      <td>1.0</td>\n",
              "      <td>432.223</td>\n",
              "      <td>158.110</td>\n",
              "      <td>1.0</td>\n",
              "      <td>408.965</td>\n",
              "      <td>173.592</td>\n",
              "      <td>1.0</td>\n",
              "    </tr>\n",
              "    <tr>\n",
              "      <th>...</th>\n",
              "      <td>...</td>\n",
              "      <td>...</td>\n",
              "      <td>...</td>\n",
              "      <td>...</td>\n",
              "      <td>...</td>\n",
              "      <td>...</td>\n",
              "      <td>...</td>\n",
              "      <td>...</td>\n",
              "      <td>...</td>\n",
              "      <td>...</td>\n",
              "      <td>...</td>\n",
              "      <td>...</td>\n",
              "      <td>...</td>\n",
              "      <td>...</td>\n",
              "      <td>...</td>\n",
              "      <td>...</td>\n",
              "      <td>...</td>\n",
              "      <td>...</td>\n",
              "    </tr>\n",
              "    <tr>\n",
              "      <th>3692</th>\n",
              "      <td>475.710</td>\n",
              "      <td>412.380</td>\n",
              "      <td>1.0</td>\n",
              "      <td>475.240</td>\n",
              "      <td>400.270</td>\n",
              "      <td>1.0</td>\n",
              "      <td>480.316</td>\n",
              "      <td>367.453</td>\n",
              "      <td>1.0</td>\n",
              "      <td>343.988</td>\n",
              "      <td>138.807</td>\n",
              "      <td>1.0</td>\n",
              "      <td>329.352</td>\n",
              "      <td>131.104</td>\n",
              "      <td>1.0</td>\n",
              "      <td>297.275</td>\n",
              "      <td>132.079</td>\n",
              "      <td>1.0</td>\n",
              "    </tr>\n",
              "    <tr>\n",
              "      <th>3693</th>\n",
              "      <td>476.570</td>\n",
              "      <td>419.137</td>\n",
              "      <td>1.0</td>\n",
              "      <td>473.184</td>\n",
              "      <td>405.110</td>\n",
              "      <td>1.0</td>\n",
              "      <td>479.219</td>\n",
              "      <td>368.419</td>\n",
              "      <td>1.0</td>\n",
              "      <td>347.372</td>\n",
              "      <td>135.368</td>\n",
              "      <td>1.0</td>\n",
              "      <td>334.354</td>\n",
              "      <td>133.327</td>\n",
              "      <td>1.0</td>\n",
              "      <td>299.107</td>\n",
              "      <td>131.694</td>\n",
              "      <td>1.0</td>\n",
              "    </tr>\n",
              "    <tr>\n",
              "      <th>3694</th>\n",
              "      <td>476.565</td>\n",
              "      <td>419.131</td>\n",
              "      <td>1.0</td>\n",
              "      <td>473.199</td>\n",
              "      <td>405.098</td>\n",
              "      <td>1.0</td>\n",
              "      <td>479.199</td>\n",
              "      <td>368.390</td>\n",
              "      <td>1.0</td>\n",
              "      <td>347.368</td>\n",
              "      <td>135.365</td>\n",
              "      <td>1.0</td>\n",
              "      <td>334.359</td>\n",
              "      <td>133.322</td>\n",
              "      <td>1.0</td>\n",
              "      <td>299.107</td>\n",
              "      <td>131.689</td>\n",
              "      <td>1.0</td>\n",
              "    </tr>\n",
              "    <tr>\n",
              "      <th>3695</th>\n",
              "      <td>479.047</td>\n",
              "      <td>425.612</td>\n",
              "      <td>1.0</td>\n",
              "      <td>472.544</td>\n",
              "      <td>413.268</td>\n",
              "      <td>1.0</td>\n",
              "      <td>476.301</td>\n",
              "      <td>371.215</td>\n",
              "      <td>1.0</td>\n",
              "      <td>347.163</td>\n",
              "      <td>135.901</td>\n",
              "      <td>1.0</td>\n",
              "      <td>333.897</td>\n",
              "      <td>136.298</td>\n",
              "      <td>1.0</td>\n",
              "      <td>300.019</td>\n",
              "      <td>131.634</td>\n",
              "      <td>1.0</td>\n",
              "    </tr>\n",
              "    <tr>\n",
              "      <th>3696</th>\n",
              "      <td>478.213</td>\n",
              "      <td>425.498</td>\n",
              "      <td>1.0</td>\n",
              "      <td>473.793</td>\n",
              "      <td>413.381</td>\n",
              "      <td>1.0</td>\n",
              "      <td>474.366</td>\n",
              "      <td>379.515</td>\n",
              "      <td>1.0</td>\n",
              "      <td>349.334</td>\n",
              "      <td>138.854</td>\n",
              "      <td>1.0</td>\n",
              "      <td>335.446</td>\n",
              "      <td>137.318</td>\n",
              "      <td>1.0</td>\n",
              "      <td>305.679</td>\n",
              "      <td>130.634</td>\n",
              "      <td>1.0</td>\n",
              "    </tr>\n",
              "  </tbody>\n",
              "</table>\n",
              "<p>3697 rows × 18 columns</p>\n",
              "</div>\n",
              "      <button class=\"colab-df-convert\" onclick=\"convertToInteractive('df-07488b65-102b-4e54-93b5-7e80025eb213')\"\n",
              "              title=\"Convert this dataframe to an interactive table.\"\n",
              "              style=\"display:none;\">\n",
              "        \n",
              "  <svg xmlns=\"http://www.w3.org/2000/svg\" height=\"24px\"viewBox=\"0 0 24 24\"\n",
              "       width=\"24px\">\n",
              "    <path d=\"M0 0h24v24H0V0z\" fill=\"none\"/>\n",
              "    <path d=\"M18.56 5.44l.94 2.06.94-2.06 2.06-.94-2.06-.94-.94-2.06-.94 2.06-2.06.94zm-11 1L8.5 8.5l.94-2.06 2.06-.94-2.06-.94L8.5 2.5l-.94 2.06-2.06.94zm10 10l.94 2.06.94-2.06 2.06-.94-2.06-.94-.94-2.06-.94 2.06-2.06.94z\"/><path d=\"M17.41 7.96l-1.37-1.37c-.4-.4-.92-.59-1.43-.59-.52 0-1.04.2-1.43.59L10.3 9.45l-7.72 7.72c-.78.78-.78 2.05 0 2.83L4 21.41c.39.39.9.59 1.41.59.51 0 1.02-.2 1.41-.59l7.78-7.78 2.81-2.81c.8-.78.8-2.07 0-2.86zM5.41 20L4 18.59l7.72-7.72 1.47 1.35L5.41 20z\"/>\n",
              "  </svg>\n",
              "      </button>\n",
              "      \n",
              "  <style>\n",
              "    .colab-df-container {\n",
              "      display:flex;\n",
              "      flex-wrap:wrap;\n",
              "      gap: 12px;\n",
              "    }\n",
              "\n",
              "    .colab-df-convert {\n",
              "      background-color: #E8F0FE;\n",
              "      border: none;\n",
              "      border-radius: 50%;\n",
              "      cursor: pointer;\n",
              "      display: none;\n",
              "      fill: #1967D2;\n",
              "      height: 32px;\n",
              "      padding: 0 0 0 0;\n",
              "      width: 32px;\n",
              "    }\n",
              "\n",
              "    .colab-df-convert:hover {\n",
              "      background-color: #E2EBFA;\n",
              "      box-shadow: 0px 1px 2px rgba(60, 64, 67, 0.3), 0px 1px 3px 1px rgba(60, 64, 67, 0.15);\n",
              "      fill: #174EA6;\n",
              "    }\n",
              "\n",
              "    [theme=dark] .colab-df-convert {\n",
              "      background-color: #3B4455;\n",
              "      fill: #D2E3FC;\n",
              "    }\n",
              "\n",
              "    [theme=dark] .colab-df-convert:hover {\n",
              "      background-color: #434B5C;\n",
              "      box-shadow: 0px 1px 3px 1px rgba(0, 0, 0, 0.15);\n",
              "      filter: drop-shadow(0px 1px 2px rgba(0, 0, 0, 0.3));\n",
              "      fill: #FFFFFF;\n",
              "    }\n",
              "  </style>\n",
              "\n",
              "      <script>\n",
              "        const buttonEl =\n",
              "          document.querySelector('#df-07488b65-102b-4e54-93b5-7e80025eb213 button.colab-df-convert');\n",
              "        buttonEl.style.display =\n",
              "          google.colab.kernel.accessAllowed ? 'block' : 'none';\n",
              "\n",
              "        async function convertToInteractive(key) {\n",
              "          const element = document.querySelector('#df-07488b65-102b-4e54-93b5-7e80025eb213');\n",
              "          const dataTable =\n",
              "            await google.colab.kernel.invokeFunction('convertToInteractive',\n",
              "                                                     [key], {});\n",
              "          if (!dataTable) return;\n",
              "\n",
              "          const docLinkHtml = 'Like what you see? Visit the ' +\n",
              "            '<a target=\"_blank\" href=https://colab.research.google.com/notebooks/data_table.ipynb>data table notebook</a>'\n",
              "            + ' to learn more about interactive tables.';\n",
              "          element.innerHTML = '';\n",
              "          dataTable['output_type'] = 'display_data';\n",
              "          await google.colab.output.renderOutput(dataTable, element);\n",
              "          const docLink = document.createElement('div');\n",
              "          docLink.innerHTML = docLinkHtml;\n",
              "          element.appendChild(docLink);\n",
              "        }\n",
              "      </script>\n",
              "    </div>\n",
              "  </div>\n",
              "  "
            ]
          },
          "metadata": {},
          "execution_count": 133
        }
      ],
      "source": [
        "df"
      ]
    },
    {
      "cell_type": "markdown",
      "source": [
        "Taking this format into account, we can use the data to analyze the animals position across time in a frame-wise manner (discrete timesteps) as any other type of timeseries data."
      ],
      "metadata": {
        "id": "1VQGIOlcdqJF"
      },
      "id": "1VQGIOlcdqJF"
    },
    {
      "cell_type": "code",
      "execution_count": 134,
      "id": "1edd97da",
      "metadata": {
        "id": "1edd97da",
        "outputId": "00a027af-223c-490f-9032-c61faede126b",
        "colab": {
          "base_uri": "https://localhost:8080/",
          "height": 336
        }
      },
      "outputs": [
        {
          "output_type": "stream",
          "name": "stdout",
          "text": [
            "Picked mouse1, nose.\n"
          ]
        },
        {
          "output_type": "stream",
          "name": "stderr",
          "text": [
            "/usr/local/lib/python3.7/dist-packages/ipykernel/kernelbase.py:399: PerformanceWarning: indexing past lexsort depth may impact performance.\n",
            "  user_expressions, allow_stdin)\n"
          ]
        },
        {
          "output_type": "execute_result",
          "data": {
            "text/plain": [
              "<matplotlib.legend.Legend at 0x7fbd87f17250>"
            ]
          },
          "metadata": {},
          "execution_count": 134
        },
        {
          "output_type": "display_data",
          "data": {
            "text/plain": [
              "<Figure size 432x288 with 1 Axes>"
            ],
            "image/png": "[encoded data removed]"
          },
          "metadata": {
            "needs_background": "light"
          }
        }
      ],
      "source": [
        "#pick a bodypart and animal\n",
        "\n",
        "animal = animals[0]\n",
        "bp = bodyparts[1]\n",
        "print(f\"Picked {animal}, {bp}.\")\n",
        "\n",
        "x_coords, y_coords, likelihood = df[(scorer[0], animal,bp)].values.T\n",
        "\n",
        "plt.plot(x_coords, y_coords, label = \"_\".join([animal, bp]))\n",
        "plt.legend()\n",
        "\n",
        "\n"
      ]
    },
    {
      "cell_type": "markdown",
      "source": [
        "You might pick up on some jitters/jumps in the pose estimation here. This is due to the fact that we are looking at unprocessed (raw) data and sometimes the algorithm is not good at estimating the position."
      ],
      "metadata": {
        "id": "JriCyILZkgEe"
      },
      "id": "JriCyILZkgEe"
    },
    {
      "cell_type": "code",
      "source": [
        "#let's find out how many values are below a minimum likelihood\n",
        "\n",
        "#for this we can use the likelihood column for each bodypart\n",
        "\n",
        "likelihood_clm = df[(scorer[0], animal, bp, \"likelihood\")]\n",
        "\n",
        "print(\"INFO: \")\n",
        "print(f\"Range: {likelihood_clm.min()} to {likelihood_clm.max()} with avg {likelihood_clm.mean()} +/- {likelihood_clm.std()}\")\n",
        "\n",
        "threshold = 0.6\n",
        "print(f\"How many frames have a likelihood under {threshold}?\")\n",
        "flt_likelihood_clm = likelihood_clm.values > threshold\n",
        "print(f\"Values above threshold: {flt_likelihood_clm.sum()} of {flt_likelihood_clm.shape[0]}\")"
      ],
      "metadata": {
        "colab": {
          "base_uri": "https://localhost:8080/"
        },
        "id": "J3eYI1ywkvE_",
        "outputId": "b70e9861-60e7-4ce1-b817-a04f6200c21f"
      },
      "id": "J3eYI1ywkvE_",
      "execution_count": 135,
      "outputs": [
        {
          "output_type": "stream",
          "name": "stdout",
          "text": [
            "INFO: \n",
            "Range: 1.0 to 1.0 with avg 1.0 +/- 0.0\n",
            "How many frames have a likelihood under 0.6?\n",
            "Values above threshold: 3694 of 3697\n"
          ]
        }
      ]
    },
    {
      "cell_type": "markdown",
      "source": [
        "We can get rid of these values by removing them and interpolate them. the simplest way of doing this is a linear interpolation (luckily that's already build into pandas)."
      ],
      "metadata": {
        "id": "8U9VpedomwG7"
      },
      "id": "8U9VpedomwG7"
    },
    {
      "cell_type": "code",
      "source": [
        "#first set all values below the threshold to NaN (not a number)\n",
        "# for simplicity we are doing this in one go for all animals and bodyparts (consistency is key in data science)\n",
        "\n",
        "#IMPORTANT! Before we do anything with the data, we copy it, so that we keep an original version\n",
        "df_flt = df.copy(deep = True)\n",
        "#now, we only work on the copy!\n",
        "for animal in animals:\n",
        "  for bodypart in bodyparts: \n",
        "    threshold_mask = df[(scorer[0], animal, bodypart, \"likelihood\")].values < threshold\n",
        "    print(f\"Found {threshold_mask.sum()} values for {animal}, {bodypart}.\")\n",
        "    df_flt[(scorer[0], animal, bodypart, \"x\")][threshold_mask] = np.NaN\n",
        "    df_flt[(scorer[0], animal, bodypart, \"y\")][threshold_mask] = np.NaN\n",
        "\n",
        "print(\"Quick overview of the found and replaced values: \\n\", df_flt.isna().sum())    \n",
        "\n"
      ],
      "metadata": {
        "colab": {
          "base_uri": "https://localhost:8080/"
        },
        "id": "yPK7ezw6m_kE",
        "outputId": "cfa57c6e-e692-4575-8723-79b42d8b7b7d"
      },
      "id": "yPK7ezw6m_kE",
      "execution_count": 136,
      "outputs": [
        {
          "output_type": "stream",
          "name": "stdout",
          "text": [
            "Found 0 values for mouse1, neck.\n",
            "Found 0 values for mouse1, nose.\n",
            "Found 0 values for mouse1, tailbase.\n",
            "Found 0 values for mouse2, neck.\n",
            "Found 2 values for mouse2, nose.\n",
            "Found 0 values for mouse2, tailbase.\n",
            "Quick overview of the found and replaced values: \n",
            " scorer                                        individuals  bodyparts  coords    \n",
            "DLC_dlcrnetms5_openfieldMay31shuffle1_200000  mouse1       nose       x               3\n",
            "                                                                      y               3\n",
            "                                                                      likelihood      3\n",
            "                                                           neck       x               3\n",
            "                                                                      y               3\n",
            "                                                                      likelihood      3\n",
            "                                                           tailbase   x               3\n",
            "                                                                      y               3\n",
            "                                                                      likelihood      3\n",
            "                                              mouse2       nose       x             261\n",
            "                                                                      y             261\n",
            "                                                                      likelihood    259\n",
            "                                                           neck       x             259\n",
            "                                                                      y             259\n",
            "                                                                      likelihood    259\n",
            "                                                           tailbase   x             259\n",
            "                                                                      y             259\n",
            "                                                                      likelihood    259\n",
            "dtype: int64\n"
          ]
        }
      ]
    },
    {
      "cell_type": "markdown",
      "source": [
        "If both doesn't match, it is very likely that your data was missing some frames already (which is usually the result of a filtering step). So make sure that you are using raw data. if this is on purpose, the next step will clean up those values anyway."
      ],
      "metadata": {
        "id": "uDmuYrtsqSAZ"
      },
      "id": "uDmuYrtsqSAZ"
    },
    {
      "cell_type": "code",
      "source": [
        "help(df_flt.interpolate)"
      ],
      "metadata": {
        "colab": {
          "base_uri": "https://localhost:8080/"
        },
        "id": "aAvC6t8GrAn8",
        "outputId": "26d47ad7-9a60-4050-ab57-4dcc19c58ce6"
      },
      "id": "aAvC6t8GrAn8",
      "execution_count": 137,
      "outputs": [
        {
          "output_type": "stream",
          "name": "stdout",
          "text": [
            "Help on method interpolate in module pandas.core.frame:\n",
            "\n",
            "interpolate(method: 'str' = 'linear', axis: 'Axis' = 0, limit: 'int | None' = None, inplace: 'bool' = False, limit_direction: 'str | None' = None, limit_area: 'str | None' = None, downcast: 'str | None' = None, **kwargs) -> 'DataFrame | None' method of pandas.core.frame.DataFrame instance\n",
            "    Fill NaN values using an interpolation method.\n",
            "    \n",
            "    Please note that only ``method='linear'`` is supported for\n",
            "    DataFrame/Series with a MultiIndex.\n",
            "    \n",
            "    Parameters\n",
            "    ----------\n",
            "    method : str, default 'linear'\n",
            "        Interpolation technique to use. One of:\n",
            "    \n",
            "        * 'linear': Ignore the index and treat the values as equally\n",
            "          spaced. This is the only method supported on MultiIndexes.\n",
            "        * 'time': Works on daily and higher resolution data to interpolate\n",
            "          given length of interval.\n",
            "        * 'index', 'values': use the actual numerical values of the index.\n",
            "        * 'pad': Fill in NaNs using existing values.\n",
            "        * 'nearest', 'zero', 'slinear', 'quadratic', 'cubic', 'spline',\n",
            "          'barycentric', 'polynomial': Passed to\n",
            "          `scipy.interpolate.interp1d`. These methods use the numerical\n",
            "          values of the index.  Both 'polynomial' and 'spline' require that\n",
            "          you also specify an `order` (int), e.g.\n",
            "          ``df.interpolate(method='polynomial', order=5)``.\n",
            "        * 'krogh', 'piecewise_polynomial', 'spline', 'pchip', 'akima',\n",
            "          'cubicspline': Wrappers around the SciPy interpolation methods of\n",
            "          similar names. See `Notes`.\n",
            "        * 'from_derivatives': Refers to\n",
            "          `scipy.interpolate.BPoly.from_derivatives` which\n",
            "          replaces 'piecewise_polynomial' interpolation method in\n",
            "          scipy 0.18.\n",
            "    \n",
            "    axis : {{0 or 'index', 1 or 'columns', None}}, default None\n",
            "        Axis to interpolate along.\n",
            "    limit : int, optional\n",
            "        Maximum number of consecutive NaNs to fill. Must be greater than\n",
            "        0.\n",
            "    inplace : bool, default False\n",
            "        Update the data in place if possible.\n",
            "    limit_direction : {{'forward', 'backward', 'both'}}, Optional\n",
            "        Consecutive NaNs will be filled in this direction.\n",
            "    \n",
            "        If limit is specified:\n",
            "            * If 'method' is 'pad' or 'ffill', 'limit_direction' must be 'forward'.\n",
            "            * If 'method' is 'backfill' or 'bfill', 'limit_direction' must be\n",
            "              'backwards'.\n",
            "    \n",
            "        If 'limit' is not specified:\n",
            "            * If 'method' is 'backfill' or 'bfill', the default is 'backward'\n",
            "            * else the default is 'forward'\n",
            "    \n",
            "        .. versionchanged:: 1.1.0\n",
            "            raises ValueError if `limit_direction` is 'forward' or 'both' and\n",
            "                method is 'backfill' or 'bfill'.\n",
            "            raises ValueError if `limit_direction` is 'backward' or 'both' and\n",
            "                method is 'pad' or 'ffill'.\n",
            "    \n",
            "    limit_area : {{`None`, 'inside', 'outside'}}, default None\n",
            "        If limit is specified, consecutive NaNs will be filled with this\n",
            "        restriction.\n",
            "    \n",
            "        * ``None``: No fill restriction.\n",
            "        * 'inside': Only fill NaNs surrounded by valid values\n",
            "          (interpolate).\n",
            "        * 'outside': Only fill NaNs outside valid values (extrapolate).\n",
            "    \n",
            "    downcast : optional, 'infer' or None, defaults to None\n",
            "        Downcast dtypes if possible.\n",
            "    ``**kwargs`` : optional\n",
            "        Keyword arguments to pass on to the interpolating function.\n",
            "    \n",
            "    Returns\n",
            "    -------\n",
            "    Series or DataFrame or None\n",
            "        Returns the same object type as the caller, interpolated at\n",
            "        some or all ``NaN`` values or None if ``inplace=True``.\n",
            "    \n",
            "    See Also\n",
            "    --------\n",
            "    fillna : Fill missing values using different methods.\n",
            "    scipy.interpolate.Akima1DInterpolator : Piecewise cubic polynomials\n",
            "        (Akima interpolator).\n",
            "    scipy.interpolate.BPoly.from_derivatives : Piecewise polynomial in the\n",
            "        Bernstein basis.\n",
            "    scipy.interpolate.interp1d : Interpolate a 1-D function.\n",
            "    scipy.interpolate.KroghInterpolator : Interpolate polynomial (Krogh\n",
            "        interpolator).\n",
            "    scipy.interpolate.PchipInterpolator : PCHIP 1-d monotonic cubic\n",
            "        interpolation.\n",
            "    scipy.interpolate.CubicSpline : Cubic spline data interpolator.\n",
            "    \n",
            "    Notes\n",
            "    -----\n",
            "    The 'krogh', 'piecewise_polynomial', 'spline', 'pchip' and 'akima'\n",
            "    methods are wrappers around the respective SciPy implementations of\n",
            "    similar names. These use the actual numerical values of the index.\n",
            "    For more information on their behavior, see the\n",
            "    `SciPy documentation\n",
            "    <https://docs.scipy.org/doc/scipy/reference/interpolate.html#univariate-interpolation>`__\n",
            "    and `SciPy tutorial\n",
            "    <https://docs.scipy.org/doc/scipy/reference/tutorial/interpolate.html>`__.\n",
            "    \n",
            "    Examples\n",
            "    --------\n",
            "    Filling in ``NaN`` in a :class:`~pandas.Series` via linear\n",
            "    interpolation.\n",
            "    \n",
            "    >>> s = pd.Series([0, 1, np.nan, 3])\n",
            "    >>> s\n",
            "    0    0.0\n",
            "    1    1.0\n",
            "    2    NaN\n",
            "    3    3.0\n",
            "    dtype: float64\n",
            "    >>> s.interpolate()\n",
            "    0    0.0\n",
            "    1    1.0\n",
            "    2    2.0\n",
            "    3    3.0\n",
            "    dtype: float64\n",
            "    \n",
            "    Filling in ``NaN`` in a Series by padding, but filling at most two\n",
            "    consecutive ``NaN`` at a time.\n",
            "    \n",
            "    >>> s = pd.Series([np.nan, \"single_one\", np.nan,\n",
            "    ...                \"fill_two_more\", np.nan, np.nan, np.nan,\n",
            "    ...                4.71, np.nan])\n",
            "    >>> s\n",
            "    0              NaN\n",
            "    1       single_one\n",
            "    2              NaN\n",
            "    3    fill_two_more\n",
            "    4              NaN\n",
            "    5              NaN\n",
            "    6              NaN\n",
            "    7             4.71\n",
            "    8              NaN\n",
            "    dtype: object\n",
            "    >>> s.interpolate(method='pad', limit=2)\n",
            "    0              NaN\n",
            "    1       single_one\n",
            "    2       single_one\n",
            "    3    fill_two_more\n",
            "    4    fill_two_more\n",
            "    5    fill_two_more\n",
            "    6              NaN\n",
            "    7             4.71\n",
            "    8             4.71\n",
            "    dtype: object\n",
            "    \n",
            "    Filling in ``NaN`` in a Series via polynomial interpolation or splines:\n",
            "    Both 'polynomial' and 'spline' methods require that you also specify\n",
            "    an ``order`` (int).\n",
            "    \n",
            "    >>> s = pd.Series([0, 2, np.nan, 8])\n",
            "    >>> s.interpolate(method='polynomial', order=2)\n",
            "    0    0.000000\n",
            "    1    2.000000\n",
            "    2    4.666667\n",
            "    3    8.000000\n",
            "    dtype: float64\n",
            "    \n",
            "    Fill the DataFrame forward (that is, going down) along each column\n",
            "    using linear interpolation.\n",
            "    \n",
            "    Note how the last entry in column 'a' is interpolated differently,\n",
            "    because there is no entry after it to use for interpolation.\n",
            "    Note how the first entry in column 'b' remains ``NaN``, because there\n",
            "    is no entry before it to use for interpolation.\n",
            "    \n",
            "    >>> df = pd.DataFrame([(0.0, np.nan, -1.0, 1.0),\n",
            "    ...                    (np.nan, 2.0, np.nan, np.nan),\n",
            "    ...                    (2.0, 3.0, np.nan, 9.0),\n",
            "    ...                    (np.nan, 4.0, -4.0, 16.0)],\n",
            "    ...                   columns=list('abcd'))\n",
            "    >>> df\n",
            "         a    b    c     d\n",
            "    0  0.0  NaN -1.0   1.0\n",
            "    1  NaN  2.0  NaN   NaN\n",
            "    2  2.0  3.0  NaN   9.0\n",
            "    3  NaN  4.0 -4.0  16.0\n",
            "    >>> df.interpolate(method='linear', limit_direction='forward', axis=0)\n",
            "         a    b    c     d\n",
            "    0  0.0  NaN -1.0   1.0\n",
            "    1  1.0  2.0 -2.0   5.0\n",
            "    2  2.0  3.0 -3.0   9.0\n",
            "    3  2.0  4.0 -4.0  16.0\n",
            "    \n",
            "    Using polynomial interpolation.\n",
            "    \n",
            "    >>> df['d'].interpolate(method='polynomial', order=2)\n",
            "    0     1.0\n",
            "    1     4.0\n",
            "    2     9.0\n",
            "    3    16.0\n",
            "    Name: d, dtype: float64\n",
            "\n"
          ]
        }
      ]
    },
    {
      "cell_type": "code",
      "source": [
        "#interpolate the dataframe with this command\n",
        "df_flt.interpolate(inplace = True)\n",
        "print(\"How many NaNs are left? \\n\")\n",
        "df_flt.isna().sum()"
      ],
      "metadata": {
        "colab": {
          "base_uri": "https://localhost:8080/"
        },
        "id": "NV3MlZpaqmKh",
        "outputId": "234e07aa-2aa4-40c9-fb0c-50929fc23141"
      },
      "id": "NV3MlZpaqmKh",
      "execution_count": 138,
      "outputs": [
        {
          "output_type": "stream",
          "name": "stdout",
          "text": [
            "How many NaNs are left? \n",
            "\n"
          ]
        },
        {
          "output_type": "execute_result",
          "data": {
            "text/plain": [
              "scorer                                        individuals  bodyparts  coords    \n",
              "DLC_dlcrnetms5_openfieldMay31shuffle1_200000  mouse1       nose       x             0\n",
              "                                                                      y             0\n",
              "                                                                      likelihood    0\n",
              "                                                           neck       x             0\n",
              "                                                                      y             0\n",
              "                                                                      likelihood    0\n",
              "                                                           tailbase   x             0\n",
              "                                                                      y             0\n",
              "                                                                      likelihood    0\n",
              "                                              mouse2       nose       x             0\n",
              "                                                                      y             0\n",
              "                                                                      likelihood    0\n",
              "                                                           neck       x             0\n",
              "                                                                      y             0\n",
              "                                                                      likelihood    0\n",
              "                                                           tailbase   x             0\n",
              "                                                                      y             0\n",
              "                                                                      likelihood    0\n",
              "dtype: int64"
            ]
          },
          "metadata": {},
          "execution_count": 138
        }
      ]
    },
    {
      "cell_type": "markdown",
      "source": [
        "Let's plot it again and see what happened"
      ],
      "metadata": {
        "id": "QiMG4KGTrRn4"
      },
      "id": "QiMG4KGTrRn4"
    },
    {
      "cell_type": "code",
      "source": [
        "#pick a bodypart and animal\n",
        "\n",
        "animal = animals[0]\n",
        "bp = bodyparts[1]\n",
        "print(f\"Picked {animal}, {bp}.\")\n",
        "\n",
        "x_coords, y_coords, likelihood = df_flt[(scorer[0], animal,bp)].values.T\n",
        "\n",
        "plt.plot(x_coords, y_coords, label = \"_\".join([animal, bp]))\n",
        "plt.legend()"
      ],
      "metadata": {
        "colab": {
          "base_uri": "https://localhost:8080/",
          "height": 336
        },
        "id": "e7iA4oMOq8JK",
        "outputId": "9197826e-a4b3-4507-cab5-fa46c5307777"
      },
      "id": "e7iA4oMOq8JK",
      "execution_count": 139,
      "outputs": [
        {
          "output_type": "stream",
          "name": "stdout",
          "text": [
            "Picked mouse1, nose.\n"
          ]
        },
        {
          "output_type": "stream",
          "name": "stderr",
          "text": [
            "/usr/local/lib/python3.7/dist-packages/ipykernel/kernelbase.py:399: PerformanceWarning: indexing past lexsort depth may impact performance.\n",
            "  user_expressions, allow_stdin)\n"
          ]
        },
        {
          "output_type": "execute_result",
          "data": {
            "text/plain": [
              "<matplotlib.legend.Legend at 0x7fbd88139d90>"
            ]
          },
          "metadata": {},
          "execution_count": 139
        },
        {
          "output_type": "display_data",
          "data": {
            "text/plain": [
              "<Figure size 432x288 with 1 Axes>"
            ],
            "image/png": "[encoded data removed]"
          },
          "metadata": {
            "needs_background": "light"
          }
        }
      ]
    },
    {
      "cell_type": "markdown",
      "source": [
        "Now let's begin with some basic analysis:\n",
        "\n",
        "If we want to know how far the animal moved across the whole session, we need to calculate the distance it traveled each frame measure by a chosen bodypart and the sum it up.\n",
        "\n",
        "the distance between each frame is the euclidean distance betwenn timepoint 0 and t + 1"
      ],
      "metadata": {
        "id": "eHFHuuKS54M6"
      },
      "id": "eHFHuuKS54M6"
    },
    {
      "cell_type": "code",
      "source": [
        "def calc_dist(x1,y1,x2,y2):\n",
        "  #calculates euclidean distance between two points\n",
        "  out_array = (np.sqrt((x1 - x2) ** 2 + (y1 - y2) ** 2))\n",
        "  return out_array\n",
        "\n",
        "\n",
        "def calc_distance_between_frames(df):\n",
        "  # shift coordinates by 1 so that we calculate the distance traveled between the current and the last frame (easier than itering through all rows, believe me)\n",
        "  # last value gets NaN\n",
        "  df_shift = df.shift(periods=1)\n",
        "  # rename each column to \"x/y_shifted\"\n",
        "  df_shift.rename(lambda x: x + '_shifted',axis='columns',level=3,inplace=True)\n",
        "\n",
        "  scorer = df.columns.get_level_values(0).unique()[0]\n",
        "  animals = list(df.columns.get_level_values(1).unique())\n",
        "  bodyparts = list(df.columns.get_level_values(2).unique())\n",
        "\n",
        "  for animal in animals:\n",
        "    for bp in bodyparts:\n",
        "      x1 = df[(scorer,animal,bp,'x')]\n",
        "      x2 = df_shift[(scorer,animal,bp,'x_shifted')]\n",
        "      y1 = df[(scorer,animal,bp,'y')]\n",
        "      y2 = df_shift[(scorer,animal,bp,'y_shifted')]\n",
        "      dist_series = calc_dist(x1,y1,x2,y2)\n",
        "      dist_series.name = (scorer, animal,bp,'dist')\n",
        "      df = pd.concat([df,dist_series],axis=1)\n",
        "  # resorting will change the original order, so only do this at the end if you really have to\n",
        "  # df = df.reindex(columns=sorted(df.columns))\n",
        "  return df\n",
        "\n"
      ],
      "metadata": {
        "id": "rxrP9eGr53Mv"
      },
      "id": "rxrP9eGr53Mv",
      "execution_count": 140,
      "outputs": []
    },
    {
      "cell_type": "code",
      "source": [
        "df_calc = df_flt.copy(deep = True)\n",
        "\n",
        "df_calc = calc_distance_between_frames(df_calc)\n",
        "# this will add a distance column in the same format to the original data.\n",
        "#if we want to only look at the distance columns, we can drop all others:\n",
        "df_dist = df_calc.drop(columns = [\"x\", \"y\", \"likelihood\"], level = 3)"
      ],
      "metadata": {
        "id": "5rdtve8y7NUR"
      },
      "id": "5rdtve8y7NUR",
      "execution_count": 141,
      "outputs": []
    },
    {
      "cell_type": "code",
      "source": [
        "print(f\"Distance traveled in px across the whole session:\")\n",
        "df_dist.sum()"
      ],
      "metadata": {
        "colab": {
          "base_uri": "https://localhost:8080/"
        },
        "id": "CikKBUjG7Rnc",
        "outputId": "478a2b12-1f66-4d73-c968-1dd002b27c90"
      },
      "id": "CikKBUjG7Rnc",
      "execution_count": 142,
      "outputs": [
        {
          "output_type": "stream",
          "name": "stdout",
          "text": [
            "Distance traveled in px across the whole session:\n"
          ]
        },
        {
          "output_type": "execute_result",
          "data": {
            "text/plain": [
              "scorer                                        individuals  bodyparts  coords\n",
              "DLC_dlcrnetms5_openfieldMay31shuffle1_200000  mouse1       nose       dist      72941.854743\n",
              "                                                           neck       dist      71356.316552\n",
              "                                                           tailbase   dist      68135.885188\n",
              "                                              mouse2       nose       dist      72282.412972\n",
              "                                                           neck       dist      70621.085172\n",
              "                                                           tailbase   dist      66370.350508\n",
              "dtype: float64"
            ]
          },
          "metadata": {},
          "execution_count": 142
        }
      ]
    },
    {
      "cell_type": "markdown",
      "source": [
        "If we know the length of an object in the video in px and in cm, we can easily convert this into cm.\n",
        "\n",
        "If we know the fps of the video recording, we can also get some information about the time/speed etc."
      ],
      "metadata": {
        "id": "rnpBjxR79xX5"
      },
      "id": "rnpBjxR79xX5"
    },
    {
      "cell_type": "code",
      "source": [
        "obj_length_px = 10 #add your value\n",
        "obj_length_cm = 1 #add your value\n",
        "px_to_cm = obj_length_px/obj_length_cm\n",
        "\n",
        "df_dist_cm = df_dist / px_to_cm \n",
        "\n",
        "print(f\"Total distance travelled per bodypart (cm): \\n {df_dist_cm.sum()}\")"
      ],
      "metadata": {
        "colab": {
          "base_uri": "https://localhost:8080/"
        },
        "id": "86ZSdI9r9urV",
        "outputId": "ba2c36d5-dddd-4cbd-ab64-22b726227a58"
      },
      "id": "86ZSdI9r9urV",
      "execution_count": 143,
      "outputs": [
        {
          "output_type": "stream",
          "name": "stdout",
          "text": [
            "Total distance travelled per bodypart (cm): \n",
            " scorer                                        individuals  bodyparts  coords\n",
            "DLC_dlcrnetms5_openfieldMay31shuffle1_200000  mouse1       nose       dist      7294.185474\n",
            "                                                           neck       dist      7135.631655\n",
            "                                                           tailbase   dist      6813.588519\n",
            "                                              mouse2       nose       dist      7228.241297\n",
            "                                                           neck       dist      7062.108517\n",
            "                                                           tailbase   dist      6637.035051\n",
            "dtype: float64\n"
          ]
        }
      ]
    },
    {
      "cell_type": "code",
      "source": [
        "fps = 30 # add your value\n",
        "\n",
        "print(f\"Average speed (cm/s) per bodypart: \\n {df_dist_cm.mean()/fps}\")"
      ],
      "metadata": {
        "colab": {
          "base_uri": "https://localhost:8080/"
        },
        "id": "7bJrUYbj-nMW",
        "outputId": "3bb7885f-40c8-44fb-dd62-2623daec3114"
      },
      "id": "7bJrUYbj-nMW",
      "execution_count": 144,
      "outputs": [
        {
          "output_type": "stream",
          "name": "stdout",
          "text": [
            "Average speed (cm/s) per bodypart: \n",
            " scorer                                        individuals  bodyparts  coords\n",
            "DLC_dlcrnetms5_openfieldMay31shuffle1_200000  mouse1       nose       dist      0.065785\n",
            "                                                           neck       dist      0.064355\n",
            "                                                           tailbase   dist      0.061450\n",
            "                                              mouse2       nose       dist      0.065190\n",
            "                                                           neck       dist      0.063691\n",
            "                                                           tailbase   dist      0.059858\n",
            "dtype: float64\n"
          ]
        }
      ]
    },
    {
      "cell_type": "markdown",
      "source": [
        "You can also plot this, to see changes across time:"
      ],
      "metadata": {
        "id": "C9Scwl8m_hk8"
      },
      "id": "C9Scwl8m_hk8"
    },
    {
      "cell_type": "code",
      "source": [
        "animal = animals[0]\n",
        "bp = bodyparts[1]\n",
        "print(f\"Picked {animal}, {bp}.\")\n",
        "\n",
        "y = df_dist_cm[(scorer[0], animal,bp, \"dist\")].values\n",
        "x = np.arange(y_coords.shape[0])/fps\n",
        "\n",
        "plt.plot(x, y, label = \"_\".join([animal, bp]))\n",
        "plt.ylabel(\"Distance [cm]\")\n",
        "plt.xlabel(\"Time [sec]\")\n",
        "plt.legend()"
      ],
      "metadata": {
        "colab": {
          "base_uri": "https://localhost:8080/",
          "height": 315
        },
        "id": "eUo7ft-J_dMi",
        "outputId": "8f92591f-fba2-4f53-9c94-155804b7d648"
      },
      "id": "eUo7ft-J_dMi",
      "execution_count": 145,
      "outputs": [
        {
          "output_type": "stream",
          "name": "stdout",
          "text": [
            "Picked mouse1, nose.\n"
          ]
        },
        {
          "output_type": "execute_result",
          "data": {
            "text/plain": [
              "<matplotlib.legend.Legend at 0x7fbd87e25250>"
            ]
          },
          "metadata": {},
          "execution_count": 145
        },
        {
          "output_type": "display_data",
          "data": {
            "text/plain": [
              "<Figure size 432x288 with 1 Axes>"
            ],
            "image/png": "[encoded data removed]"
          },
          "metadata": {
            "needs_background": "light"
          }
        }
      ]
    },
    {
      "cell_type": "markdown",
      "source": [
        "Now, if you are interested to see whether your animal is interacting with an object or other thing of interest, we can use the same functions to calculate the animals distance to it. Assuming that proximity or distance to a point indicates the animals behavioral reaction to it."
      ],
      "metadata": {
        "id": "WxZ7baHPBqsM"
      },
      "id": "WxZ7baHPBqsM"
    },
    {
      "cell_type": "code",
      "source": [
        "#take the calculate distance function from above and add in an object point instead of the next frame\n",
        "\n",
        "def calc_distance_from_point(df, point: tuple):\n",
        "  \n",
        "  scorer = df.columns.get_level_values(0).unique()[0]\n",
        "  animals = list(df.columns.get_level_values(1).unique())\n",
        "  bodyparts = list(df.columns.get_level_values(2).unique())\n",
        "\n",
        "  for animal in animals:\n",
        "    for bp in bodyparts:\n",
        "      x1 = df[(scorer,animal,bp,'x')]\n",
        "      x2 = point[0]\n",
        "      y1 = df[(scorer,animal,bp,'y')]\n",
        "      y2 = point[1]\n",
        "      dist_series = calc_dist(x1,y1,x2,y2)\n",
        "      dist_series.name = (scorer, animal,bp,'point_dist')\n",
        "      df = pd.concat([df,dist_series],axis=1)\n",
        "\n",
        "  return df"
      ],
      "metadata": {
        "id": "I_Z91NHrB_oO"
      },
      "id": "I_Z91NHrB_oO",
      "execution_count": 146,
      "outputs": []
    },
    {
      "cell_type": "code",
      "source": [
        "obj_point = (0,0)\n",
        "df_obj = df_flt.copy(deep = True)\n",
        "df_obj = calc_distance_from_point(df_obj, point = obj_point)\n",
        "\n",
        "# this will add a distance column in the same format to the original data.\n",
        "#if we want to only look at the distance columns, we can drop all others:\n",
        "df_obj = df_obj.drop(columns = [\"x\", \"y\", \"likelihood\"], level = 3)\n",
        "df_obj"
      ],
      "metadata": {
        "colab": {
          "base_uri": "https://localhost:8080/",
          "height": 518
        },
        "id": "79hMQjR4Cj-T",
        "outputId": "08197717-d36c-4e1f-d98d-7c04ced42c12"
      },
      "id": "79hMQjR4Cj-T",
      "execution_count": 151,
      "outputs": [
        {
          "output_type": "execute_result",
          "data": {
            "text/plain": [
              "scorer      DLC_dlcrnetms5_openfieldMay31shuffle1_200000              \\\n",
              "individuals                                       mouse1               \n",
              "bodyparts                                           nose        neck   \n",
              "coords                                        point_dist  point_dist   \n",
              "0                                             367.923158  374.611038   \n",
              "1                                             369.040508  374.904971   \n",
              "2                                             369.572950  374.780738   \n",
              "3                                             370.240125  375.148479   \n",
              "4                                             370.238823  375.145878   \n",
              "...                                                  ...         ...   \n",
              "3692                                          629.569113  621.344615   \n",
              "3693                                          634.661161  622.910274   \n",
              "3694                                          634.653444  622.913865   \n",
              "3695                                          640.805433  627.764503   \n",
              "3696                                          640.106414  628.779499   \n",
              "\n",
              "scorer                                                       \n",
              "individuals                  mouse2                          \n",
              "bodyparts      tailbase        nose        neck    tailbase  \n",
              "coords       point_dist  point_dist  point_dist  point_dist  \n",
              "0            402.659036  467.561105  460.521886  444.512448  \n",
              "1            402.993463  467.536561  460.438756  444.549947  \n",
              "2            402.864623  467.352627  460.160218  444.478233  \n",
              "3            403.262424  467.338520  460.234264  444.284158  \n",
              "4            403.261764  467.336239  460.234173  444.282065  \n",
              "...                 ...         ...         ...         ...  \n",
              "3692         604.752153  370.938172  354.486951  325.295693  \n",
              "3693         604.469527  372.816043  359.956506  326.815402  \n",
              "3694         604.435996  372.811227  359.959298  326.813387  \n",
              "3695         603.873512  372.815276  360.644356  327.626175  \n",
              "3696         607.498755  375.918444  362.464139  332.422762  \n",
              "\n",
              "[3697 rows x 6 columns]"
            ],
            "text/html": [
              "\n",
              "  <div id=\"df-4c55d57e-20ba-4915-964b-cd6e0da1e3ed\">\n",
              "    <div class=\"colab-df-container\">\n",
              "      <div>\n",
              "<style scoped>\n",
              "    .dataframe tbody tr th:only-of-type {\n",
              "        vertical-align: middle;\n",
              "    }\n",
              "\n",
              "    .dataframe tbody tr th {\n",
              "        vertical-align: top;\n",
              "    }\n",
              "\n",
              "    .dataframe thead tr th {\n",
              "        text-align: left;\n",
              "    }\n",
              "</style>\n",
              "<table border=\"1\" class=\"dataframe\">\n",
              "  <thead>\n",
              "    <tr>\n",
              "      <th>scorer</th>\n",
              "      <th colspan=\"6\" halign=\"left\">DLC_dlcrnetms5_openfieldMay31shuffle1_200000</th>\n",
              "    </tr>\n",
              "    <tr>\n",
              "      <th>individuals</th>\n",
              "      <th colspan=\"3\" halign=\"left\">mouse1</th>\n",
              "      <th colspan=\"3\" halign=\"left\">mouse2</th>\n",
              "    </tr>\n",
              "    <tr>\n",
              "      <th>bodyparts</th>\n",
              "      <th>nose</th>\n",
              "      <th>neck</th>\n",
              "      <th>tailbase</th>\n",
              "      <th>nose</th>\n",
              "      <th>neck</th>\n",
              "      <th>tailbase</th>\n",
              "    </tr>\n",
              "    <tr>\n",
              "      <th>coords</th>\n",
              "      <th>point_dist</th>\n",
              "      <th>point_dist</th>\n",
              "      <th>point_dist</th>\n",
              "      <th>point_dist</th>\n",
              "      <th>point_dist</th>\n",
              "      <th>point_dist</th>\n",
              "    </tr>\n",
              "  </thead>\n",
              "  <tbody>\n",
              "    <tr>\n",
              "      <th>0</th>\n",
              "      <td>367.923158</td>\n",
              "      <td>374.611038</td>\n",
              "      <td>402.659036</td>\n",
              "      <td>467.561105</td>\n",
              "      <td>460.521886</td>\n",
              "      <td>444.512448</td>\n",
              "    </tr>\n",
              "    <tr>\n",
              "      <th>1</th>\n",
              "      <td>369.040508</td>\n",
              "      <td>374.904971</td>\n",
              "      <td>402.993463</td>\n",
              "      <td>467.536561</td>\n",
              "      <td>460.438756</td>\n",
              "      <td>444.549947</td>\n",
              "    </tr>\n",
              "    <tr>\n",
              "      <th>2</th>\n",
              "      <td>369.572950</td>\n",
              "      <td>374.780738</td>\n",
              "      <td>402.864623</td>\n",
              "      <td>467.352627</td>\n",
              "      <td>460.160218</td>\n",
              "      <td>444.478233</td>\n",
              "    </tr>\n",
              "    <tr>\n",
              "      <th>3</th>\n",
              "      <td>370.240125</td>\n",
              "      <td>375.148479</td>\n",
              "      <td>403.262424</td>\n",
              "      <td>467.338520</td>\n",
              "      <td>460.234264</td>\n",
              "      <td>444.284158</td>\n",
              "    </tr>\n",
              "    <tr>\n",
              "      <th>4</th>\n",
              "      <td>370.238823</td>\n",
              "      <td>375.145878</td>\n",
              "      <td>403.261764</td>\n",
              "      <td>467.336239</td>\n",
              "      <td>460.234173</td>\n",
              "      <td>444.282065</td>\n",
              "    </tr>\n",
              "    <tr>\n",
              "      <th>...</th>\n",
              "      <td>...</td>\n",
              "      <td>...</td>\n",
              "      <td>...</td>\n",
              "      <td>...</td>\n",
              "      <td>...</td>\n",
              "      <td>...</td>\n",
              "    </tr>\n",
              "    <tr>\n",
              "      <th>3692</th>\n",
              "      <td>629.569113</td>\n",
              "      <td>621.344615</td>\n",
              "      <td>604.752153</td>\n",
              "      <td>370.938172</td>\n",
              "      <td>354.486951</td>\n",
              "      <td>325.295693</td>\n",
              "    </tr>\n",
              "    <tr>\n",
              "      <th>3693</th>\n",
              "      <td>634.661161</td>\n",
              "      <td>622.910274</td>\n",
              "      <td>604.469527</td>\n",
              "      <td>372.816043</td>\n",
              "      <td>359.956506</td>\n",
              "      <td>326.815402</td>\n",
              "    </tr>\n",
              "    <tr>\n",
              "      <th>3694</th>\n",
              "      <td>634.653444</td>\n",
              "      <td>622.913865</td>\n",
              "      <td>604.435996</td>\n",
              "      <td>372.811227</td>\n",
              "      <td>359.959298</td>\n",
              "      <td>326.813387</td>\n",
              "    </tr>\n",
              "    <tr>\n",
              "      <th>3695</th>\n",
              "      <td>640.805433</td>\n",
              "      <td>627.764503</td>\n",
              "      <td>603.873512</td>\n",
              "      <td>372.815276</td>\n",
              "      <td>360.644356</td>\n",
              "      <td>327.626175</td>\n",
              "    </tr>\n",
              "    <tr>\n",
              "      <th>3696</th>\n",
              "      <td>640.106414</td>\n",
              "      <td>628.779499</td>\n",
              "      <td>607.498755</td>\n",
              "      <td>375.918444</td>\n",
              "      <td>362.464139</td>\n",
              "      <td>332.422762</td>\n",
              "    </tr>\n",
              "  </tbody>\n",
              "</table>\n",
              "<p>3697 rows × 6 columns</p>\n",
              "</div>\n",
              "      <button class=\"colab-df-convert\" onclick=\"convertToInteractive('df-4c55d57e-20ba-4915-964b-cd6e0da1e3ed')\"\n",
              "              title=\"Convert this dataframe to an interactive table.\"\n",
              "              style=\"display:none;\">\n",
              "        \n",
              "  <svg xmlns=\"http://www.w3.org/2000/svg\" height=\"24px\"viewBox=\"0 0 24 24\"\n",
              "       width=\"24px\">\n",
              "    <path d=\"M0 0h24v24H0V0z\" fill=\"none\"/>\n",
              "    <path d=\"M18.56 5.44l.94 2.06.94-2.06 2.06-.94-2.06-.94-.94-2.06-.94 2.06-2.06.94zm-11 1L8.5 8.5l.94-2.06 2.06-.94-2.06-.94L8.5 2.5l-.94 2.06-2.06.94zm10 10l.94 2.06.94-2.06 2.06-.94-2.06-.94-.94-2.06-.94 2.06-2.06.94z\"/><path d=\"M17.41 7.96l-1.37-1.37c-.4-.4-.92-.59-1.43-.59-.52 0-1.04.2-1.43.59L10.3 9.45l-7.72 7.72c-.78.78-.78 2.05 0 2.83L4 21.41c.39.39.9.59 1.41.59.51 0 1.02-.2 1.41-.59l7.78-7.78 2.81-2.81c.8-.78.8-2.07 0-2.86zM5.41 20L4 18.59l7.72-7.72 1.47 1.35L5.41 20z\"/>\n",
              "  </svg>\n",
              "      </button>\n",
              "      \n",
              "  <style>\n",
              "    .colab-df-container {\n",
              "      display:flex;\n",
              "      flex-wrap:wrap;\n",
              "      gap: 12px;\n",
              "    }\n",
              "\n",
              "    .colab-df-convert {\n",
              "      background-color: #E8F0FE;\n",
              "      border: none;\n",
              "      border-radius: 50%;\n",
              "      cursor: pointer;\n",
              "      display: none;\n",
              "      fill: #1967D2;\n",
              "      height: 32px;\n",
              "      padding: 0 0 0 0;\n",
              "      width: 32px;\n",
              "    }\n",
              "\n",
              "    .colab-df-convert:hover {\n",
              "      background-color: #E2EBFA;\n",
              "      box-shadow: 0px 1px 2px rgba(60, 64, 67, 0.3), 0px 1px 3px 1px rgba(60, 64, 67, 0.15);\n",
              "      fill: #174EA6;\n",
              "    }\n",
              "\n",
              "    [theme=dark] .colab-df-convert {\n",
              "      background-color: #3B4455;\n",
              "      fill: #D2E3FC;\n",
              "    }\n",
              "\n",
              "    [theme=dark] .colab-df-convert:hover {\n",
              "      background-color: #434B5C;\n",
              "      box-shadow: 0px 1px 3px 1px rgba(0, 0, 0, 0.15);\n",
              "      filter: drop-shadow(0px 1px 2px rgba(0, 0, 0, 0.3));\n",
              "      fill: #FFFFFF;\n",
              "    }\n",
              "  </style>\n",
              "\n",
              "      <script>\n",
              "        const buttonEl =\n",
              "          document.querySelector('#df-4c55d57e-20ba-4915-964b-cd6e0da1e3ed button.colab-df-convert');\n",
              "        buttonEl.style.display =\n",
              "          google.colab.kernel.accessAllowed ? 'block' : 'none';\n",
              "\n",
              "        async function convertToInteractive(key) {\n",
              "          const element = document.querySelector('#df-4c55d57e-20ba-4915-964b-cd6e0da1e3ed');\n",
              "          const dataTable =\n",
              "            await google.colab.kernel.invokeFunction('convertToInteractive',\n",
              "                                                     [key], {});\n",
              "          if (!dataTable) return;\n",
              "\n",
              "          const docLinkHtml = 'Like what you see? Visit the ' +\n",
              "            '<a target=\"_blank\" href=https://colab.research.google.com/notebooks/data_table.ipynb>data table notebook</a>'\n",
              "            + ' to learn more about interactive tables.';\n",
              "          element.innerHTML = '';\n",
              "          dataTable['output_type'] = 'display_data';\n",
              "          await google.colab.output.renderOutput(dataTable, element);\n",
              "          const docLink = document.createElement('div');\n",
              "          docLink.innerHTML = docLinkHtml;\n",
              "          element.appendChild(docLink);\n",
              "        }\n",
              "      </script>\n",
              "    </div>\n",
              "  </div>\n",
              "  "
            ]
          },
          "metadata": {},
          "execution_count": 151
        }
      ]
    },
    {
      "cell_type": "markdown",
      "source": [
        "I can use this to define a threshold (proximity) to that point as indicator that the animal is behaving in a certain way (e.g. explores the object). Similiar to the likelihood threshold i can use the following function:"
      ],
      "metadata": {
        "id": "EI2xq8TpDwNR"
      },
      "id": "EI2xq8TpDwNR"
    },
    {
      "cell_type": "code",
      "source": [
        "prox_threshold = 400 #this is still in px but you can also convert everything into centimeter (see above conversion)\n",
        "\n",
        "#this assumes a circular region of interest\n",
        "df_threshold = df_obj < prox_threshold\n",
        "\n",
        "#the result is a boolean mask for each frame\n",
        "df_threshold"
      ],
      "metadata": {
        "colab": {
          "base_uri": "https://localhost:8080/",
          "height": 518
        },
        "id": "9LXbAFsmEDj6",
        "outputId": "55092ec2-bd03-4c69-f8d6-5865c039a05b"
      },
      "id": "9LXbAFsmEDj6",
      "execution_count": 160,
      "outputs": [
        {
          "output_type": "execute_result",
          "data": {
            "text/plain": [
              "scorer      DLC_dlcrnetms5_openfieldMay31shuffle1_200000             \\\n",
              "individuals                                       mouse1              \n",
              "bodyparts                                           nose       neck   \n",
              "coords                                        point_dist point_dist   \n",
              "0                                                   True       True   \n",
              "1                                                   True       True   \n",
              "2                                                   True       True   \n",
              "3                                                   True       True   \n",
              "4                                                   True       True   \n",
              "...                                                  ...        ...   \n",
              "3692                                               False      False   \n",
              "3693                                               False      False   \n",
              "3694                                               False      False   \n",
              "3695                                               False      False   \n",
              "3696                                               False      False   \n",
              "\n",
              "scorer                                                   \n",
              "individuals                mouse2                        \n",
              "bodyparts     tailbase       nose       neck   tailbase  \n",
              "coords      point_dist point_dist point_dist point_dist  \n",
              "0                False      False      False      False  \n",
              "1                False      False      False      False  \n",
              "2                False      False      False      False  \n",
              "3                False      False      False      False  \n",
              "4                False      False      False      False  \n",
              "...                ...        ...        ...        ...  \n",
              "3692             False       True       True       True  \n",
              "3693             False       True       True       True  \n",
              "3694             False       True       True       True  \n",
              "3695             False       True       True       True  \n",
              "3696             False       True       True       True  \n",
              "\n",
              "[3697 rows x 6 columns]"
            ],
            "text/html": [
              "\n",
              "  <div id=\"df-ff955808-1989-4486-a247-5284a24d6934\">\n",
              "    <div class=\"colab-df-container\">\n",
              "      <div>\n",
              "<style scoped>\n",
              "    .dataframe tbody tr th:only-of-type {\n",
              "        vertical-align: middle;\n",
              "    }\n",
              "\n",
              "    .dataframe tbody tr th {\n",
              "        vertical-align: top;\n",
              "    }\n",
              "\n",
              "    .dataframe thead tr th {\n",
              "        text-align: left;\n",
              "    }\n",
              "</style>\n",
              "<table border=\"1\" class=\"dataframe\">\n",
              "  <thead>\n",
              "    <tr>\n",
              "      <th>scorer</th>\n",
              "      <th colspan=\"6\" halign=\"left\">DLC_dlcrnetms5_openfieldMay31shuffle1_200000</th>\n",
              "    </tr>\n",
              "    <tr>\n",
              "      <th>individuals</th>\n",
              "      <th colspan=\"3\" halign=\"left\">mouse1</th>\n",
              "      <th colspan=\"3\" halign=\"left\">mouse2</th>\n",
              "    </tr>\n",
              "    <tr>\n",
              "      <th>bodyparts</th>\n",
              "      <th>nose</th>\n",
              "      <th>neck</th>\n",
              "      <th>tailbase</th>\n",
              "      <th>nose</th>\n",
              "      <th>neck</th>\n",
              "      <th>tailbase</th>\n",
              "    </tr>\n",
              "    <tr>\n",
              "      <th>coords</th>\n",
              "      <th>point_dist</th>\n",
              "      <th>point_dist</th>\n",
              "      <th>point_dist</th>\n",
              "      <th>point_dist</th>\n",
              "      <th>point_dist</th>\n",
              "      <th>point_dist</th>\n",
              "    </tr>\n",
              "  </thead>\n",
              "  <tbody>\n",
              "    <tr>\n",
              "      <th>0</th>\n",
              "      <td>True</td>\n",
              "      <td>True</td>\n",
              "      <td>False</td>\n",
              "      <td>False</td>\n",
              "      <td>False</td>\n",
              "      <td>False</td>\n",
              "    </tr>\n",
              "    <tr>\n",
              "      <th>1</th>\n",
              "      <td>True</td>\n",
              "      <td>True</td>\n",
              "      <td>False</td>\n",
              "      <td>False</td>\n",
              "      <td>False</td>\n",
              "      <td>False</td>\n",
              "    </tr>\n",
              "    <tr>\n",
              "      <th>2</th>\n",
              "      <td>True</td>\n",
              "      <td>True</td>\n",
              "      <td>False</td>\n",
              "      <td>False</td>\n",
              "      <td>False</td>\n",
              "      <td>False</td>\n",
              "    </tr>\n",
              "    <tr>\n",
              "      <th>3</th>\n",
              "      <td>True</td>\n",
              "      <td>True</td>\n",
              "      <td>False</td>\n",
              "      <td>False</td>\n",
              "      <td>False</td>\n",
              "      <td>False</td>\n",
              "    </tr>\n",
              "    <tr>\n",
              "      <th>4</th>\n",
              "      <td>True</td>\n",
              "      <td>True</td>\n",
              "      <td>False</td>\n",
              "      <td>False</td>\n",
              "      <td>False</td>\n",
              "      <td>False</td>\n",
              "    </tr>\n",
              "    <tr>\n",
              "      <th>...</th>\n",
              "      <td>...</td>\n",
              "      <td>...</td>\n",
              "      <td>...</td>\n",
              "      <td>...</td>\n",
              "      <td>...</td>\n",
              "      <td>...</td>\n",
              "    </tr>\n",
              "    <tr>\n",
              "      <th>3692</th>\n",
              "      <td>False</td>\n",
              "      <td>False</td>\n",
              "      <td>False</td>\n",
              "      <td>True</td>\n",
              "      <td>True</td>\n",
              "      <td>True</td>\n",
              "    </tr>\n",
              "    <tr>\n",
              "      <th>3693</th>\n",
              "      <td>False</td>\n",
              "      <td>False</td>\n",
              "      <td>False</td>\n",
              "      <td>True</td>\n",
              "      <td>True</td>\n",
              "      <td>True</td>\n",
              "    </tr>\n",
              "    <tr>\n",
              "      <th>3694</th>\n",
              "      <td>False</td>\n",
              "      <td>False</td>\n",
              "      <td>False</td>\n",
              "      <td>True</td>\n",
              "      <td>True</td>\n",
              "      <td>True</td>\n",
              "    </tr>\n",
              "    <tr>\n",
              "      <th>3695</th>\n",
              "      <td>False</td>\n",
              "      <td>False</td>\n",
              "      <td>False</td>\n",
              "      <td>True</td>\n",
              "      <td>True</td>\n",
              "      <td>True</td>\n",
              "    </tr>\n",
              "    <tr>\n",
              "      <th>3696</th>\n",
              "      <td>False</td>\n",
              "      <td>False</td>\n",
              "      <td>False</td>\n",
              "      <td>True</td>\n",
              "      <td>True</td>\n",
              "      <td>True</td>\n",
              "    </tr>\n",
              "  </tbody>\n",
              "</table>\n",
              "<p>3697 rows × 6 columns</p>\n",
              "</div>\n",
              "      <button class=\"colab-df-convert\" onclick=\"convertToInteractive('df-ff955808-1989-4486-a247-5284a24d6934')\"\n",
              "              title=\"Convert this dataframe to an interactive table.\"\n",
              "              style=\"display:none;\">\n",
              "        \n",
              "  <svg xmlns=\"http://www.w3.org/2000/svg\" height=\"24px\"viewBox=\"0 0 24 24\"\n",
              "       width=\"24px\">\n",
              "    <path d=\"M0 0h24v24H0V0z\" fill=\"none\"/>\n",
              "    <path d=\"M18.56 5.44l.94 2.06.94-2.06 2.06-.94-2.06-.94-.94-2.06-.94 2.06-2.06.94zm-11 1L8.5 8.5l.94-2.06 2.06-.94-2.06-.94L8.5 2.5l-.94 2.06-2.06.94zm10 10l.94 2.06.94-2.06 2.06-.94-2.06-.94-.94-2.06-.94 2.06-2.06.94z\"/><path d=\"M17.41 7.96l-1.37-1.37c-.4-.4-.92-.59-1.43-.59-.52 0-1.04.2-1.43.59L10.3 9.45l-7.72 7.72c-.78.78-.78 2.05 0 2.83L4 21.41c.39.39.9.59 1.41.59.51 0 1.02-.2 1.41-.59l7.78-7.78 2.81-2.81c.8-.78.8-2.07 0-2.86zM5.41 20L4 18.59l7.72-7.72 1.47 1.35L5.41 20z\"/>\n",
              "  </svg>\n",
              "      </button>\n",
              "      \n",
              "  <style>\n",
              "    .colab-df-container {\n",
              "      display:flex;\n",
              "      flex-wrap:wrap;\n",
              "      gap: 12px;\n",
              "    }\n",
              "\n",
              "    .colab-df-convert {\n",
              "      background-color: #E8F0FE;\n",
              "      border: none;\n",
              "      border-radius: 50%;\n",
              "      cursor: pointer;\n",
              "      display: none;\n",
              "      fill: #1967D2;\n",
              "      height: 32px;\n",
              "      padding: 0 0 0 0;\n",
              "      width: 32px;\n",
              "    }\n",
              "\n",
              "    .colab-df-convert:hover {\n",
              "      background-color: #E2EBFA;\n",
              "      box-shadow: 0px 1px 2px rgba(60, 64, 67, 0.3), 0px 1px 3px 1px rgba(60, 64, 67, 0.15);\n",
              "      fill: #174EA6;\n",
              "    }\n",
              "\n",
              "    [theme=dark] .colab-df-convert {\n",
              "      background-color: #3B4455;\n",
              "      fill: #D2E3FC;\n",
              "    }\n",
              "\n",
              "    [theme=dark] .colab-df-convert:hover {\n",
              "      background-color: #434B5C;\n",
              "      box-shadow: 0px 1px 3px 1px rgba(0, 0, 0, 0.15);\n",
              "      filter: drop-shadow(0px 1px 2px rgba(0, 0, 0, 0.3));\n",
              "      fill: #FFFFFF;\n",
              "    }\n",
              "  </style>\n",
              "\n",
              "      <script>\n",
              "        const buttonEl =\n",
              "          document.querySelector('#df-ff955808-1989-4486-a247-5284a24d6934 button.colab-df-convert');\n",
              "        buttonEl.style.display =\n",
              "          google.colab.kernel.accessAllowed ? 'block' : 'none';\n",
              "\n",
              "        async function convertToInteractive(key) {\n",
              "          const element = document.querySelector('#df-ff955808-1989-4486-a247-5284a24d6934');\n",
              "          const dataTable =\n",
              "            await google.colab.kernel.invokeFunction('convertToInteractive',\n",
              "                                                     [key], {});\n",
              "          if (!dataTable) return;\n",
              "\n",
              "          const docLinkHtml = 'Like what you see? Visit the ' +\n",
              "            '<a target=\"_blank\" href=https://colab.research.google.com/notebooks/data_table.ipynb>data table notebook</a>'\n",
              "            + ' to learn more about interactive tables.';\n",
              "          element.innerHTML = '';\n",
              "          dataTable['output_type'] = 'display_data';\n",
              "          await google.colab.output.renderOutput(dataTable, element);\n",
              "          const docLink = document.createElement('div');\n",
              "          docLink.innerHTML = docLinkHtml;\n",
              "          element.appendChild(docLink);\n",
              "        }\n",
              "      </script>\n",
              "    </div>\n",
              "  </div>\n",
              "  "
            ]
          },
          "metadata": {},
          "execution_count": 160
        }
      ]
    },
    {
      "cell_type": "code",
      "source": [
        "print(f\"Total time spent close to point (total session: {df_threshold.shape[0]/fps:.2f} sec): \\n\", df_threshold.sum()/fps)"
      ],
      "metadata": {
        "colab": {
          "base_uri": "https://localhost:8080/"
        },
        "id": "0xyePcigEYqp",
        "outputId": "f1b01dd4-1c83-44ea-cbd3-914488a77c66"
      },
      "id": "0xyePcigEYqp",
      "execution_count": 161,
      "outputs": [
        {
          "output_type": "stream",
          "name": "stdout",
          "text": [
            "Total time spent close to point (total session: 123.23 sec): \n",
            " scorer                                        individuals  bodyparts  coords    \n",
            "DLC_dlcrnetms5_openfieldMay31shuffle1_200000  mouse1       nose       point_dist    75.666667\n",
            "                                                           neck       point_dist    73.533333\n",
            "                                                           tailbase   point_dist    50.800000\n",
            "                                              mouse2       nose       point_dist    47.166667\n",
            "                                                           neck       point_dist    45.200000\n",
            "                                                           tailbase   point_dist    44.333333\n",
            "dtype: float64\n"
          ]
        }
      ]
    },
    {
      "cell_type": "markdown",
      "source": [
        "You can also plot the events across time:"
      ],
      "metadata": {
        "id": "tGR-k5F9FkIC"
      },
      "id": "tGR-k5F9FkIC"
    },
    {
      "cell_type": "code",
      "source": [
        "animal = animals[0]\n",
        "bp = bodyparts[1]\n",
        "print(f\"Picked {animal}, {bp}.\")\n",
        "\n",
        "y = df_threshold[(scorer[0], animal,bp, \"point_dist\")].values\n",
        "x = np.arange(y_coords.shape[0])/fps\n",
        "\n",
        "plt.plot(x, y, label = \"_\".join([animal, bp]))\n",
        "plt.ylabel(\"Event [True = 1; False = 0]\")\n",
        "plt.xlabel(\"Time [sec]\")\n",
        "plt.legend()"
      ],
      "metadata": {
        "colab": {
          "base_uri": "https://localhost:8080/",
          "height": 315
        },
        "id": "JHwZcMWHFo-u",
        "outputId": "b6a707ac-11c2-48fc-c048-0fb27b40653b"
      },
      "id": "JHwZcMWHFo-u",
      "execution_count": 164,
      "outputs": [
        {
          "output_type": "stream",
          "name": "stdout",
          "text": [
            "Picked mouse1, nose.\n"
          ]
        },
        {
          "output_type": "execute_result",
          "data": {
            "text/plain": [
              "<matplotlib.legend.Legend at 0x7fbd8805e750>"
            ]
          },
          "metadata": {},
          "execution_count": 164
        },
        {
          "output_type": "display_data",
          "data": {
            "text/plain": [
              "<Figure size 432x288 with 1 Axes>"
            ],
            "image/png": "[encoded data removed]"
          },
          "metadata": {
            "needs_background": "light"
          }
        }
      ]
    }
  ],
  "metadata": {
    "kernelspec": {
      "display_name": "Python 3",
      "language": "python",
      "name": "python3"
    },
    "language_info": {
      "codemirror_mode": {
        "name": "ipython",
        "version": 3
      },
      "file_extension": ".py",
      "mimetype": "text/x-python",
      "name": "python",
      "nbconvert_exporter": "python",
      "pygments_lexer": "ipython3",
      "version": "3.6.13"
    },
    "colab": {
      "name": "intro_analysing_pose_estimation_multidlc.ipynb",
      "provenance": [],
      "collapsed_sections": [],
      "include_colab_link": true
    }
  },
  "nbformat": 4,
  "nbformat_minor": 5
}